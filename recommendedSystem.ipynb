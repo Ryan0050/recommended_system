{
 "cells": [
  {
   "cell_type": "code",
   "execution_count": 20,
   "metadata": {},
   "outputs": [],
   "source": [
    "import pandas as pd  \n",
    "import numpy as np  \n",
    "from sklearn.model_selection import train_test_split  \n",
    "from sklearn.metrics.pairwise import cosine_similarity  \n",
    "from sklearn.preprocessing import StandardScaler  \n",
    "\n",
    "# Load the data  \n",
    "url = \"https://files.grouplens.org/datasets/movielens/ml-100k/u.data\"  \n",
    "columns = [\"user_id\", \"movie_id\", \"rating\", \"timestamp\"]  \n",
    "data = pd.read_csv(url, sep='\\t', names=columns)  "
   ]
  },
  {
   "cell_type": "code",
   "execution_count": 21,
   "metadata": {},
   "outputs": [],
   "source": [
    "user_item_matrix = data.pivot_table(  \n",
    "    index='user_id',   \n",
    "    columns='movie_id',   \n",
    "    values='rating',   \n",
    "    fill_value=0  \n",
    ")  "
   ]
  },
  {
   "cell_type": "code",
   "execution_count": 22,
   "metadata": {},
   "outputs": [],
   "source": [
    "class CollaborativeRecommender:  \n",
    "    def __init__(self, user_item_matrix):  \n",
    "        self.user_item_matrix = user_item_matrix  \n",
    "        self.user_similarity = None  \n",
    "        \n",
    "    def compute_similarity(self):  \n",
    "        self.user_similarity = cosine_similarity(self.user_item_matrix)  \n",
    "        return self.user_similarity  \n",
    "    \n",
    "    def recommend_items(self, user_id, n_recommendations=5):\n",
    "        if user_id not in self.user_item_matrix.index:  \n",
    "            return \"User not found\"  \n",
    "        \n",
    "        user_index = self.user_item_matrix.index.get_loc(user_id)  \n",
    "        \n",
    "        user_ratings = self.user_item_matrix.iloc[user_index]  \n",
    "        \n",
    "        similar_users = self.user_similarity[user_index]  \n",
    "        \n",
    "        unrated_items = user_ratings[user_ratings == 0].index  \n",
    "        \n",
    "        recommendations = {}  \n",
    "        for item in unrated_items:  \n",
    "            item_ratings = self.user_item_matrix[item]  \n",
    "            weighted_ratings = item_ratings * similar_users  \n",
    "            recommendations[item] = weighted_ratings.sum()  \n",
    "         \n",
    "        sorted_recommendations = sorted(  \n",
    "            recommendations.items(),   \n",
    "            key=lambda x: x[1],   \n",
    "            reverse=True  \n",
    "        )  \n",
    "        \n",
    "        return sorted_recommendations[:n_recommendations]  "
   ]
  },
  {
   "cell_type": "code",
   "execution_count": 23,
   "metadata": {},
   "outputs": [
    {
     "data": {
      "text/plain": [
       "array([[1.        , 0.16693098, 0.04745954, ..., 0.14861694, 0.17950788,\n",
       "        0.39817474],\n",
       "       [0.16693098, 1.        , 0.11059132, ..., 0.16148478, 0.17226781,\n",
       "        0.10579788],\n",
       "       [0.04745954, 0.11059132, 1.        , ..., 0.10124256, 0.13341615,\n",
       "        0.02655587],\n",
       "       ...,\n",
       "       [0.14861694, 0.16148478, 0.10124256, ..., 1.        , 0.1016418 ,\n",
       "        0.09511958],\n",
       "       [0.17950788, 0.17226781, 0.13341615, ..., 0.1016418 , 1.        ,\n",
       "        0.18246466],\n",
       "       [0.39817474, 0.10579788, 0.02655587, ..., 0.09511958, 0.18246466,\n",
       "        1.        ]])"
      ]
     },
     "execution_count": 23,
     "metadata": {},
     "output_type": "execute_result"
    }
   ],
   "source": [
    "recommender = CollaborativeRecommender(user_item_matrix)  \n",
    "recommender.compute_similarity()  "
   ]
  },
  {
   "cell_type": "code",
   "execution_count": 24,
   "metadata": {},
   "outputs": [
    {
     "name": "stdout",
     "output_type": "stream",
     "text": [
      "Top recommendations for user 196:\n",
      "Movie ID: 50, Recommendation Score: 277.28806720838395\n",
      "Movie ID: 100, Recommendation Score: 251.3869923440782\n",
      "Movie ID: 181, Recommendation Score: 220.12106808739895\n",
      "Movie ID: 174, Recommendation Score: 204.86558039261453\n",
      "Movie ID: 127, Recommendation Score: 199.59258099294317\n",
      "\n",
      "Top recommendations for user 11:\n",
      "Movie ID: 50, Recommendation Score: 591.6501348556485\n",
      "Movie ID: 181, Recommendation Score: 484.68496354216427\n",
      "Movie ID: 174, Recommendation Score: 481.9023167466107\n",
      "Movie ID: 172, Recommendation Score: 421.42651223764005\n",
      "Movie ID: 1, Recommendation Score: 416.8942575765386\n"
     ]
    }
   ],
   "source": [
    "user_id = 196 \n",
    "recommendations = recommender.recommend_items(user_id)  \n",
    "print(f\"Top recommendations for user {user_id}:\")  \n",
    "for movie, score in recommendations:  \n",
    "    print(f\"Movie ID: {movie}, Recommendation Score: {score}\")  \n",
    "\n",
    "print()\n",
    "\n",
    "user_id = 11\n",
    "recommendations = recommender.recommend_items(user_id)  \n",
    "print(f\"Top recommendations for user {user_id}:\")  \n",
    "for movie, score in recommendations:  \n",
    "    print(f\"Movie ID: {movie}, Recommendation Score: {score}\")  "
   ]
  }
 ],
 "metadata": {
  "kernelspec": {
   "display_name": "Python 3",
   "language": "python",
   "name": "python3"
  },
  "language_info": {
   "codemirror_mode": {
    "name": "ipython",
    "version": 3
   },
   "file_extension": ".py",
   "mimetype": "text/x-python",
   "name": "python",
   "nbconvert_exporter": "python",
   "pygments_lexer": "ipython3",
   "version": "3.10.2"
  }
 },
 "nbformat": 4,
 "nbformat_minor": 2
}
